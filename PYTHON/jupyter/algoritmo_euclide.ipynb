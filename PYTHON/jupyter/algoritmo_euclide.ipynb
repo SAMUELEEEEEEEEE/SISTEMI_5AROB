{
 "cells": [
  {
   "cell_type": "code",
   "execution_count": 6,
   "id": "c382b7dc",
   "metadata": {},
   "outputs": [],
   "source": [
    "def algoritmo_di_euclide(n1, n2):\n",
    "    if n2 > n1:\n",
    "        n1, n2 = n2, n1\n",
    "\n",
    "    ris = n2\n",
    "    while ris != 0:\n",
    "        ris = n1 % n2\n",
    "        n2, n1 = ris, n2\n",
    "\n",
    "    return n1"
   ]
  },
  {
   "cell_type": "code",
   "execution_count": 7,
   "id": "e9d8f77e",
   "metadata": {},
   "outputs": [
    {
     "data": {
      "text/plain": [
       "20"
      ]
     },
     "execution_count": 7,
     "metadata": {},
     "output_type": "execute_result"
    }
   ],
   "source": [
    "n1 = 340\n",
    "n2 = 1260\n",
    "algoritmo_di_euclide(n1, n2)"
   ]
  },
  {
   "cell_type": "code",
   "execution_count": null,
   "id": "652649be",
   "metadata": {},
   "outputs": [],
   "source": []
  }
 ],
 "metadata": {
  "kernelspec": {
   "display_name": "Python 3 (ipykernel)",
   "language": "python",
   "name": "python3"
  },
  "language_info": {
   "codemirror_mode": {
    "name": "ipython",
    "version": 3
   },
   "file_extension": ".py",
   "mimetype": "text/x-python",
   "name": "python",
   "nbconvert_exporter": "python",
   "pygments_lexer": "ipython3",
   "version": "3.10.9"
  }
 },
 "nbformat": 4,
 "nbformat_minor": 5
}
