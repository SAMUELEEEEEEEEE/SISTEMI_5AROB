{
 "cells": [
  {
   "cell_type": "code",
   "execution_count": 1,
   "id": "45338be5",
   "metadata": {},
   "outputs": [],
   "source": [
    "import math"
   ]
  },
  {
   "cell_type": "code",
   "execution_count": 2,
   "id": "46400413",
   "metadata": {},
   "outputs": [],
   "source": [
    "def find_n(p, q):\n",
    "    return p * q"
   ]
  },
  {
   "cell_type": "code",
   "execution_count": 3,
   "id": "f71a9932",
   "metadata": {},
   "outputs": [],
   "source": [
    "def find_m(p, q):\n",
    "    return math.lcm(p - 1, q - 1)"
   ]
  },
  {
   "cell_type": "code",
   "execution_count": 4,
   "id": "9f97c5bb",
   "metadata": {},
   "outputs": [],
   "source": [
    "def find_c(m):\n",
    "    found = False\n",
    "    c = 2\n",
    "    while found is False:\n",
    "        if math.gcd(c, m) == 1:\n",
    "            found = True\n",
    "        else:\n",
    "            c += 1\n",
    "    return c"
   ]
  },
  {
   "cell_type": "code",
   "execution_count": 5,
   "id": "fc08a347",
   "metadata": {},
   "outputs": [],
   "source": [
    "def find_d(c, m):\n",
    "    found = False\n",
    "    d = 1\n",
    "    while found is False:\n",
    "        if (c * d) % m == 1:\n",
    "            found = True\n",
    "        else:\n",
    "            d += 1\n",
    "    return d"
   ]
  },
  {
   "cell_type": "code",
   "execution_count": 6,
   "id": "384b0d21",
   "metadata": {},
   "outputs": [],
   "source": [
    "def codifica(messaggio_chiaro, c, n):\n",
    "    messaggio_criptato = \"\"\n",
    "    for lettera in messaggio_chiaro:\n",
    "        messaggio_criptato += f\"{int(ord(lettera) ** c) % n}-\"\n",
    "    return messaggio_criptato[:-1]"
   ]
  },
  {
   "cell_type": "code",
   "execution_count": 7,
   "id": "d218b925",
   "metadata": {},
   "outputs": [],
   "source": [
    "def decodifica(messaggio_criptato, d, n):\n",
    "    messaggio_chiaro = \"\"\n",
    "    list_messaggio_criptato = messaggio_criptato.split(\"-\")\n",
    "    #print(list_messaggio_criptato)\n",
    "    for numero in list_messaggio_criptato:\n",
    "        messaggio_chiaro += chr((int(numero) ** d) % n)\n",
    "    return messaggio_chiaro"
   ]
  },
  {
   "cell_type": "code",
   "execution_count": 8,
   "id": "94c2cd37",
   "metadata": {},
   "outputs": [],
   "source": [
    "p = 881\n",
    "q = 9029"
   ]
  },
  {
   "cell_type": "code",
   "execution_count": 9,
   "id": "f368840e",
   "metadata": {},
   "outputs": [],
   "source": [
    "n = find_n(p, q)\n",
    "m = find_m(p, q)\n",
    "c = find_c(m)\n",
    "d = find_d(c, m)"
   ]
  },
  {
   "cell_type": "code",
   "execution_count": 10,
   "id": "4ba84847",
   "metadata": {},
   "outputs": [
    {
     "data": {
      "text/plain": [
       "'970299-1157625-912673-1367631'"
      ]
     },
     "execution_count": 10,
     "metadata": {},
     "output_type": "execute_result"
    }
   ],
   "source": [
    "messaggio_criptato = codifica(\"ciao\", c, n)\n",
    "messaggio_criptato"
   ]
  },
  {
   "cell_type": "code",
   "execution_count": 11,
   "id": "d5c8f909",
   "metadata": {},
   "outputs": [
    {
     "name": "stdout",
     "output_type": "stream",
     "text": [
      "970299\n",
      "1157625\n",
      "912673\n",
      "1367631\n"
     ]
    },
    {
     "data": {
      "text/plain": [
       "'ciao'"
      ]
     },
     "execution_count": 11,
     "metadata": {},
     "output_type": "execute_result"
    }
   ],
   "source": [
    "messaggio_chiaro = decodifica(messaggio_criptato, d, n)\n",
    "messaggio_chiaro"
   ]
  },
  {
   "cell_type": "code",
   "execution_count": null,
   "id": "c818845f",
   "metadata": {},
   "outputs": [],
   "source": []
  }
 ],
 "metadata": {
  "kernelspec": {
   "display_name": "Python 3 (ipykernel)",
   "language": "python",
   "name": "python3"
  },
  "language_info": {
   "codemirror_mode": {
    "name": "ipython",
    "version": 3
   },
   "file_extension": ".py",
   "mimetype": "text/x-python",
   "name": "python",
   "nbconvert_exporter": "python",
   "pygments_lexer": "ipython3",
   "version": "3.10.9"
  }
 },
 "nbformat": 4,
 "nbformat_minor": 5
}
